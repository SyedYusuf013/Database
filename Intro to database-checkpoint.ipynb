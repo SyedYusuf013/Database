{
 "cells": [
  {
   "cell_type": "code",
   "execution_count": 1,
   "id": "6cbaae61",
   "metadata": {},
   "outputs": [
    {
     "name": "stdout",
     "output_type": "stream",
     "text": [
      "Requirement already satisfied: mysql-connector-python in c:\\users\\syedf\\anaconda3\\lib\\site-packages (8.0.32)\n",
      "Collecting protobuf<=3.20.3,>=3.11.0\n",
      "  Downloading protobuf-3.20.3-cp39-cp39-win_amd64.whl (904 kB)\n",
      "Installing collected packages: protobuf\n",
      "Successfully installed protobuf-3.20.3\n"
     ]
    }
   ],
   "source": [
    "!pip install mysql-connector-python"
   ]
  },
  {
   "cell_type": "code",
   "execution_count": 2,
   "id": "52e5a925",
   "metadata": {},
   "outputs": [
    {
     "name": "stdout",
     "output_type": "stream",
     "text": [
      "Requirement already satisfied: mysql-connector-python in c:\\users\\syedf\\anaconda3\\lib\\site-packages (8.0.32)\n",
      "Requirement already satisfied: protobuf<=3.20.3,>=3.11.0 in c:\\users\\syedf\\anaconda3\\lib\\site-packages (from mysql-connector-python) (3.20.3)\n"
     ]
    }
   ],
   "source": [
    "!pip install mysql-connector-python"
   ]
  },
  {
   "cell_type": "code",
   "execution_count": 23,
   "id": "8528b9cf",
   "metadata": {},
   "outputs": [],
   "source": [
    "import mysql.connector as connection\n"
   ]
  },
  {
   "cell_type": "code",
   "execution_count": 24,
   "id": "76d5eca2",
   "metadata": {},
   "outputs": [],
   "source": [
    "conn = connection.connect(host=\"localhost\",user=\"root\", passwd=\"0913\",use_pure=True)"
   ]
  },
  {
   "cell_type": "code",
   "execution_count": 25,
   "id": "69dd4362",
   "metadata": {},
   "outputs": [],
   "source": [
    "cur = conn.cursor()"
   ]
  },
  {
   "cell_type": "code",
   "execution_count": 26,
   "id": "abc178d3",
   "metadata": {},
   "outputs": [],
   "source": [
    "cur.execute(\"show databases\")"
   ]
  },
  {
   "cell_type": "code",
   "execution_count": 27,
   "id": "80323858",
   "metadata": {},
   "outputs": [],
   "source": [
    "res = cur.fetchall()"
   ]
  },
  {
   "cell_type": "code",
   "execution_count": 28,
   "id": "655c6da2",
   "metadata": {},
   "outputs": [
    {
     "data": {
      "text/plain": [
       "[('information_schema',),\n",
       " ('mysql',),\n",
       " ('performance_schema',),\n",
       " ('sakila',),\n",
       " ('syed',),\n",
       " ('sys',),\n",
       " ('world',)]"
      ]
     },
     "execution_count": 28,
     "metadata": {},
     "output_type": "execute_result"
    }
   ],
   "source": [
    "res"
   ]
  },
  {
   "cell_type": "code",
   "execution_count": 29,
   "id": "f707eb36",
   "metadata": {},
   "outputs": [
    {
     "name": "stdout",
     "output_type": "stream",
     "text": [
      "information_schema\n",
      "mysql\n",
      "performance_schema\n",
      "sakila\n",
      "syed\n",
      "sys\n",
      "world\n"
     ]
    }
   ],
   "source": [
    "for i in res :\n",
    "    print(i[0])"
   ]
  },
  {
   "cell_type": "code",
   "execution_count": 30,
   "id": "2d10cfc9",
   "metadata": {},
   "outputs": [
    {
     "name": "stdout",
     "output_type": "stream",
     "text": [
      "('information_schema',)\n",
      "('mysql',)\n",
      "('performance_schema',)\n",
      "('sakila',)\n",
      "('syed',)\n",
      "('sys',)\n",
      "('world',)\n"
     ]
    }
   ],
   "source": [
    "for i in res :\n",
    "    print(i)"
   ]
  },
  {
   "cell_type": "code",
   "execution_count": 31,
   "id": "93108259",
   "metadata": {},
   "outputs": [],
   "source": [
    "import mysql.connector as connection\n"
   ]
  },
  {
   "cell_type": "code",
   "execution_count": 32,
   "id": "9303ec34",
   "metadata": {},
   "outputs": [],
   "source": [
    "conn = connection.connect(host=\"localhost\",user=\"root\", passwd=\"0913\",use_pure=True)"
   ]
  },
  {
   "cell_type": "code",
   "execution_count": 33,
   "id": "5cfccfd7",
   "metadata": {},
   "outputs": [],
   "source": [
    "cur = conn.cursor()"
   ]
  },
  {
   "cell_type": "code",
   "execution_count": 34,
   "id": "2b2e60d1",
   "metadata": {},
   "outputs": [],
   "source": [
    "cur.execute(\"create database syedxyzzz\")"
   ]
  },
  {
   "cell_type": "code",
   "execution_count": 35,
   "id": "d84fad9d",
   "metadata": {},
   "outputs": [],
   "source": [
    "conn = connection.connect(host=\"localhost\",database = \"syedxyzzz\" , user=\"root\", passwd=\"0913\",use_pure=True)"
   ]
  },
  {
   "cell_type": "code",
   "execution_count": 37,
   "id": "37d7f934",
   "metadata": {},
   "outputs": [
    {
     "data": {
      "text/plain": [
       "True"
      ]
     },
     "execution_count": 37,
     "metadata": {},
     "output_type": "execute_result"
    }
   ],
   "source": [
    "conn.is_connected()"
   ]
  },
  {
   "cell_type": "code",
   "execution_count": 38,
   "id": "1a1ec21a",
   "metadata": {},
   "outputs": [],
   "source": [
    "cur = conn.cursor()"
   ]
  },
  {
   "cell_type": "code",
   "execution_count": 39,
   "id": "ed352ca9",
   "metadata": {},
   "outputs": [],
   "source": [
    "cur.execute(\"create table test1(x1 INT (7),x2 VARCHAR (10), x3 DATE)\")"
   ]
  },
  {
   "cell_type": "code",
   "execution_count": 40,
   "id": "f7a85b43",
   "metadata": {},
   "outputs": [],
   "source": [
    "conn.close()"
   ]
  },
  {
   "cell_type": "code",
   "execution_count": 60,
   "id": "e2b057c5",
   "metadata": {},
   "outputs": [],
   "source": [
    "mydb = connection.connect(host = 'localhost', database = 'syedxyzzz', user = 'root', passwd = '0913', use_pure = True)"
   ]
  },
  {
   "cell_type": "code",
   "execution_count": 42,
   "id": "36e6c469",
   "metadata": {},
   "outputs": [
    {
     "data": {
      "text/plain": [
       "True"
      ]
     },
     "execution_count": 42,
     "metadata": {},
     "output_type": "execute_result"
    }
   ],
   "source": [
    "mydb.is_connected()"
   ]
  },
  {
   "cell_type": "code",
   "execution_count": 43,
   "id": "86ff321b",
   "metadata": {},
   "outputs": [],
   "source": [
    "cur = mydb.cursor()"
   ]
  },
  {
   "cell_type": "code",
   "execution_count": 44,
   "id": "c6219423",
   "metadata": {},
   "outputs": [],
   "source": [
    "cur.execute(\"insert into test1 values(54396,'bcse','2029-09-16')\")"
   ]
  },
  {
   "cell_type": "code",
   "execution_count": 45,
   "id": "bacb7111",
   "metadata": {},
   "outputs": [],
   "source": [
    "mydb.commit()"
   ]
  },
  {
   "cell_type": "code",
   "execution_count": 48,
   "id": "969c8d32",
   "metadata": {},
   "outputs": [],
   "source": [
    "cur.execute(\"insert into test1 values(54396,'bcse','2029-09-16')\")\n",
    "cur.execute(\"insert into test1 values(54396,'bcse','2029-09-16')\")\n",
    "cur.execute(\"insert into test1 values(54396,'bcse','2029-09-16')\")\n",
    "cur.execute(\"insert into test1 values(54396,'bcse','2029-09-16')\")\n",
    "cur.execute(\"insert into test1 values(54396,'bcse','2029-09-16')\")\n",
    "cur.execute(\"insert into test1 values(54396,'bcse','2029-09-16')\")\n",
    "cur.execute(\"insert into test1 values(54396,'bcse','2029-09-16')\")\n",
    "cur.execute(\"insert into test1 values(54396,'bcse','2029-09-16')\")\n",
    "cur.execute(\"insert into test1 values(54396,'bcse','2029-09-16')\")\n",
    "cur.execute(\"insert into test1 values(54396,'bcse','2029-09-16')\")\n",
    "cur.execute(\"insert into test1 values(54396,'bcse','2029-09-16')\")"
   ]
  },
  {
   "cell_type": "code",
   "execution_count": 49,
   "id": "23b5e244",
   "metadata": {},
   "outputs": [],
   "source": [
    "mydb.commit()"
   ]
  },
  {
   "cell_type": "code",
   "execution_count": 61,
   "id": "5a89b33e",
   "metadata": {},
   "outputs": [],
   "source": [
    "cur = mydb.cursor()"
   ]
  },
  {
   "cell_type": "code",
   "execution_count": 62,
   "id": "fddd01ff",
   "metadata": {},
   "outputs": [],
   "source": [
    "cur.execute('select * from test1')"
   ]
  },
  {
   "cell_type": "code",
   "execution_count": 63,
   "id": "eb4be0ad",
   "metadata": {},
   "outputs": [
    {
     "name": "stdout",
     "output_type": "stream",
     "text": [
      "(54396, 'bcse', datetime.date(2029, 9, 16))\n",
      "(54396, 'bcse', datetime.date(2029, 9, 16))\n",
      "(54396, 'bcse', datetime.date(2029, 9, 16))\n",
      "(54396, 'bcse', datetime.date(2029, 9, 16))\n",
      "(54396, 'bcse', datetime.date(2029, 9, 16))\n",
      "(54396, 'bcse', datetime.date(2029, 9, 16))\n",
      "(54396, 'bcse', datetime.date(2029, 9, 16))\n",
      "(54396, 'bcse', datetime.date(2029, 9, 16))\n",
      "(54396, 'bcse', datetime.date(2029, 9, 16))\n",
      "(54396, 'bcse', datetime.date(2029, 9, 16))\n",
      "(54396, 'bcse', datetime.date(2029, 9, 16))\n",
      "(54396, 'bcse', datetime.date(2029, 9, 16))\n",
      "(54396, 'bcse', datetime.date(2029, 9, 16))\n",
      "(54396, 'bcse', datetime.date(2029, 9, 16))\n",
      "(54396, 'bcse', datetime.date(2029, 9, 16))\n",
      "(54396, 'bcse', datetime.date(2029, 9, 16))\n",
      "(54396, 'bcse', datetime.date(2029, 9, 16))\n",
      "(54396, 'bcse', datetime.date(2029, 9, 16))\n",
      "(54396, 'bcse', datetime.date(2029, 9, 16))\n",
      "(54396, 'bcse', datetime.date(2029, 9, 16))\n"
     ]
    }
   ],
   "source": [
    "for i in cur.fetchall():\n",
    "    print(i)"
   ]
  },
  {
   "cell_type": "code",
   "execution_count": 64,
   "id": "a91b6575",
   "metadata": {},
   "outputs": [],
   "source": [
    "for i in cur.fetchall():\n",
    "    print(i)"
   ]
  },
  {
   "cell_type": "code",
   "execution_count": 65,
   "id": "6bc77d38",
   "metadata": {},
   "outputs": [],
   "source": [
    "cur = mydb.cursor()"
   ]
  },
  {
   "cell_type": "code",
   "execution_count": 66,
   "id": "b54d39a9",
   "metadata": {},
   "outputs": [],
   "source": [
    "cur.execute(\"select x1, x2 from test1\")"
   ]
  },
  {
   "cell_type": "code",
   "execution_count": 67,
   "id": "b5ef8866",
   "metadata": {},
   "outputs": [
    {
     "name": "stdout",
     "output_type": "stream",
     "text": [
      "(54396, 'bcse')\n",
      "(54396, 'bcse')\n",
      "(54396, 'bcse')\n",
      "(54396, 'bcse')\n",
      "(54396, 'bcse')\n",
      "(54396, 'bcse')\n",
      "(54396, 'bcse')\n",
      "(54396, 'bcse')\n",
      "(54396, 'bcse')\n",
      "(54396, 'bcse')\n",
      "(54396, 'bcse')\n",
      "(54396, 'bcse')\n",
      "(54396, 'bcse')\n",
      "(54396, 'bcse')\n",
      "(54396, 'bcse')\n",
      "(54396, 'bcse')\n",
      "(54396, 'bcse')\n",
      "(54396, 'bcse')\n",
      "(54396, 'bcse')\n",
      "(54396, 'bcse')\n"
     ]
    }
   ],
   "source": [
    "for i in cur.fetchall():\n",
    "    print(i)"
   ]
  },
  {
   "cell_type": "code",
   "execution_count": 80,
   "id": "65a1654e",
   "metadata": {},
   "outputs": [],
   "source": [
    "import pandas as pd"
   ]
  },
  {
   "cell_type": "code",
   "execution_count": 81,
   "id": "b8c99f85",
   "metadata": {},
   "outputs": [
    {
     "data": {
      "text/plain": [
       "<mysql.connector.connection.MySQLConnection at 0x215b4932f70>"
      ]
     },
     "execution_count": 81,
     "metadata": {},
     "output_type": "execute_result"
    }
   ],
   "source": [
    "mydb"
   ]
  },
  {
   "cell_type": "code",
   "execution_count": 71,
   "id": "204908dc",
   "metadata": {},
   "outputs": [
    {
     "data": {
      "text/html": [
       "<div>\n",
       "<style scoped>\n",
       "    .dataframe tbody tr th:only-of-type {\n",
       "        vertical-align: middle;\n",
       "    }\n",
       "\n",
       "    .dataframe tbody tr th {\n",
       "        vertical-align: top;\n",
       "    }\n",
       "\n",
       "    .dataframe thead th {\n",
       "        text-align: right;\n",
       "    }\n",
       "</style>\n",
       "<table border=\"1\" class=\"dataframe\">\n",
       "  <thead>\n",
       "    <tr style=\"text-align: right;\">\n",
       "      <th></th>\n",
       "      <th>x1</th>\n",
       "      <th>x2</th>\n",
       "      <th>x3</th>\n",
       "    </tr>\n",
       "  </thead>\n",
       "  <tbody>\n",
       "    <tr>\n",
       "      <th>0</th>\n",
       "      <td>54396</td>\n",
       "      <td>bcse</td>\n",
       "      <td>2029-09-16</td>\n",
       "    </tr>\n",
       "    <tr>\n",
       "      <th>1</th>\n",
       "      <td>54396</td>\n",
       "      <td>bcse</td>\n",
       "      <td>2029-09-16</td>\n",
       "    </tr>\n",
       "    <tr>\n",
       "      <th>2</th>\n",
       "      <td>54396</td>\n",
       "      <td>bcse</td>\n",
       "      <td>2029-09-16</td>\n",
       "    </tr>\n",
       "    <tr>\n",
       "      <th>3</th>\n",
       "      <td>54396</td>\n",
       "      <td>bcse</td>\n",
       "      <td>2029-09-16</td>\n",
       "    </tr>\n",
       "    <tr>\n",
       "      <th>4</th>\n",
       "      <td>54396</td>\n",
       "      <td>bcse</td>\n",
       "      <td>2029-09-16</td>\n",
       "    </tr>\n",
       "    <tr>\n",
       "      <th>5</th>\n",
       "      <td>54396</td>\n",
       "      <td>bcse</td>\n",
       "      <td>2029-09-16</td>\n",
       "    </tr>\n",
       "    <tr>\n",
       "      <th>6</th>\n",
       "      <td>54396</td>\n",
       "      <td>bcse</td>\n",
       "      <td>2029-09-16</td>\n",
       "    </tr>\n",
       "    <tr>\n",
       "      <th>7</th>\n",
       "      <td>54396</td>\n",
       "      <td>bcse</td>\n",
       "      <td>2029-09-16</td>\n",
       "    </tr>\n",
       "    <tr>\n",
       "      <th>8</th>\n",
       "      <td>54396</td>\n",
       "      <td>bcse</td>\n",
       "      <td>2029-09-16</td>\n",
       "    </tr>\n",
       "    <tr>\n",
       "      <th>9</th>\n",
       "      <td>54396</td>\n",
       "      <td>bcse</td>\n",
       "      <td>2029-09-16</td>\n",
       "    </tr>\n",
       "    <tr>\n",
       "      <th>10</th>\n",
       "      <td>54396</td>\n",
       "      <td>bcse</td>\n",
       "      <td>2029-09-16</td>\n",
       "    </tr>\n",
       "    <tr>\n",
       "      <th>11</th>\n",
       "      <td>54396</td>\n",
       "      <td>bcse</td>\n",
       "      <td>2029-09-16</td>\n",
       "    </tr>\n",
       "    <tr>\n",
       "      <th>12</th>\n",
       "      <td>54396</td>\n",
       "      <td>bcse</td>\n",
       "      <td>2029-09-16</td>\n",
       "    </tr>\n",
       "    <tr>\n",
       "      <th>13</th>\n",
       "      <td>54396</td>\n",
       "      <td>bcse</td>\n",
       "      <td>2029-09-16</td>\n",
       "    </tr>\n",
       "    <tr>\n",
       "      <th>14</th>\n",
       "      <td>54396</td>\n",
       "      <td>bcse</td>\n",
       "      <td>2029-09-16</td>\n",
       "    </tr>\n",
       "    <tr>\n",
       "      <th>15</th>\n",
       "      <td>54396</td>\n",
       "      <td>bcse</td>\n",
       "      <td>2029-09-16</td>\n",
       "    </tr>\n",
       "    <tr>\n",
       "      <th>16</th>\n",
       "      <td>54396</td>\n",
       "      <td>bcse</td>\n",
       "      <td>2029-09-16</td>\n",
       "    </tr>\n",
       "    <tr>\n",
       "      <th>17</th>\n",
       "      <td>54396</td>\n",
       "      <td>bcse</td>\n",
       "      <td>2029-09-16</td>\n",
       "    </tr>\n",
       "    <tr>\n",
       "      <th>18</th>\n",
       "      <td>54396</td>\n",
       "      <td>bcse</td>\n",
       "      <td>2029-09-16</td>\n",
       "    </tr>\n",
       "    <tr>\n",
       "      <th>19</th>\n",
       "      <td>54396</td>\n",
       "      <td>bcse</td>\n",
       "      <td>2029-09-16</td>\n",
       "    </tr>\n",
       "  </tbody>\n",
       "</table>\n",
       "</div>"
      ],
      "text/plain": [
       "       x1    x2          x3\n",
       "0   54396  bcse  2029-09-16\n",
       "1   54396  bcse  2029-09-16\n",
       "2   54396  bcse  2029-09-16\n",
       "3   54396  bcse  2029-09-16\n",
       "4   54396  bcse  2029-09-16\n",
       "5   54396  bcse  2029-09-16\n",
       "6   54396  bcse  2029-09-16\n",
       "7   54396  bcse  2029-09-16\n",
       "8   54396  bcse  2029-09-16\n",
       "9   54396  bcse  2029-09-16\n",
       "10  54396  bcse  2029-09-16\n",
       "11  54396  bcse  2029-09-16\n",
       "12  54396  bcse  2029-09-16\n",
       "13  54396  bcse  2029-09-16\n",
       "14  54396  bcse  2029-09-16\n",
       "15  54396  bcse  2029-09-16\n",
       "16  54396  bcse  2029-09-16\n",
       "17  54396  bcse  2029-09-16\n",
       "18  54396  bcse  2029-09-16\n",
       "19  54396  bcse  2029-09-16"
      ]
     },
     "execution_count": 71,
     "metadata": {},
     "output_type": "execute_result"
    }
   ],
   "source": [
    "pd.read_sql(\"select * from syedxyzzz.test1\",mydb)"
   ]
  },
  {
   "cell_type": "code",
   "execution_count": 72,
   "id": "a0ab7da9",
   "metadata": {},
   "outputs": [
    {
     "data": {
      "text/html": [
       "<div>\n",
       "<style scoped>\n",
       "    .dataframe tbody tr th:only-of-type {\n",
       "        vertical-align: middle;\n",
       "    }\n",
       "\n",
       "    .dataframe tbody tr th {\n",
       "        vertical-align: top;\n",
       "    }\n",
       "\n",
       "    .dataframe thead th {\n",
       "        text-align: right;\n",
       "    }\n",
       "</style>\n",
       "<table border=\"1\" class=\"dataframe\">\n",
       "  <thead>\n",
       "    <tr style=\"text-align: right;\">\n",
       "      <th></th>\n",
       "      <th>x1</th>\n",
       "      <th>x2</th>\n",
       "    </tr>\n",
       "  </thead>\n",
       "  <tbody>\n",
       "    <tr>\n",
       "      <th>0</th>\n",
       "      <td>54396</td>\n",
       "      <td>bcse</td>\n",
       "    </tr>\n",
       "    <tr>\n",
       "      <th>1</th>\n",
       "      <td>54396</td>\n",
       "      <td>bcse</td>\n",
       "    </tr>\n",
       "    <tr>\n",
       "      <th>2</th>\n",
       "      <td>54396</td>\n",
       "      <td>bcse</td>\n",
       "    </tr>\n",
       "    <tr>\n",
       "      <th>3</th>\n",
       "      <td>54396</td>\n",
       "      <td>bcse</td>\n",
       "    </tr>\n",
       "    <tr>\n",
       "      <th>4</th>\n",
       "      <td>54396</td>\n",
       "      <td>bcse</td>\n",
       "    </tr>\n",
       "    <tr>\n",
       "      <th>5</th>\n",
       "      <td>54396</td>\n",
       "      <td>bcse</td>\n",
       "    </tr>\n",
       "    <tr>\n",
       "      <th>6</th>\n",
       "      <td>54396</td>\n",
       "      <td>bcse</td>\n",
       "    </tr>\n",
       "    <tr>\n",
       "      <th>7</th>\n",
       "      <td>54396</td>\n",
       "      <td>bcse</td>\n",
       "    </tr>\n",
       "    <tr>\n",
       "      <th>8</th>\n",
       "      <td>54396</td>\n",
       "      <td>bcse</td>\n",
       "    </tr>\n",
       "    <tr>\n",
       "      <th>9</th>\n",
       "      <td>54396</td>\n",
       "      <td>bcse</td>\n",
       "    </tr>\n",
       "    <tr>\n",
       "      <th>10</th>\n",
       "      <td>54396</td>\n",
       "      <td>bcse</td>\n",
       "    </tr>\n",
       "    <tr>\n",
       "      <th>11</th>\n",
       "      <td>54396</td>\n",
       "      <td>bcse</td>\n",
       "    </tr>\n",
       "    <tr>\n",
       "      <th>12</th>\n",
       "      <td>54396</td>\n",
       "      <td>bcse</td>\n",
       "    </tr>\n",
       "    <tr>\n",
       "      <th>13</th>\n",
       "      <td>54396</td>\n",
       "      <td>bcse</td>\n",
       "    </tr>\n",
       "    <tr>\n",
       "      <th>14</th>\n",
       "      <td>54396</td>\n",
       "      <td>bcse</td>\n",
       "    </tr>\n",
       "    <tr>\n",
       "      <th>15</th>\n",
       "      <td>54396</td>\n",
       "      <td>bcse</td>\n",
       "    </tr>\n",
       "    <tr>\n",
       "      <th>16</th>\n",
       "      <td>54396</td>\n",
       "      <td>bcse</td>\n",
       "    </tr>\n",
       "    <tr>\n",
       "      <th>17</th>\n",
       "      <td>54396</td>\n",
       "      <td>bcse</td>\n",
       "    </tr>\n",
       "    <tr>\n",
       "      <th>18</th>\n",
       "      <td>54396</td>\n",
       "      <td>bcse</td>\n",
       "    </tr>\n",
       "    <tr>\n",
       "      <th>19</th>\n",
       "      <td>54396</td>\n",
       "      <td>bcse</td>\n",
       "    </tr>\n",
       "  </tbody>\n",
       "</table>\n",
       "</div>"
      ],
      "text/plain": [
       "       x1    x2\n",
       "0   54396  bcse\n",
       "1   54396  bcse\n",
       "2   54396  bcse\n",
       "3   54396  bcse\n",
       "4   54396  bcse\n",
       "5   54396  bcse\n",
       "6   54396  bcse\n",
       "7   54396  bcse\n",
       "8   54396  bcse\n",
       "9   54396  bcse\n",
       "10  54396  bcse\n",
       "11  54396  bcse\n",
       "12  54396  bcse\n",
       "13  54396  bcse\n",
       "14  54396  bcse\n",
       "15  54396  bcse\n",
       "16  54396  bcse\n",
       "17  54396  bcse\n",
       "18  54396  bcse\n",
       "19  54396  bcse"
      ]
     },
     "execution_count": 72,
     "metadata": {},
     "output_type": "execute_result"
    }
   ],
   "source": [
    "pd.read_sql(\"select x1,x2 from syedxyzzz.test1\",mydb)"
   ]
  },
  {
   "cell_type": "code",
   "execution_count": 74,
   "id": "75a8c7fb",
   "metadata": {},
   "outputs": [
    {
     "data": {
      "text/html": [
       "<div>\n",
       "<style scoped>\n",
       "    .dataframe tbody tr th:only-of-type {\n",
       "        vertical-align: middle;\n",
       "    }\n",
       "\n",
       "    .dataframe tbody tr th {\n",
       "        vertical-align: top;\n",
       "    }\n",
       "\n",
       "    .dataframe thead th {\n",
       "        text-align: right;\n",
       "    }\n",
       "</style>\n",
       "<table border=\"1\" class=\"dataframe\">\n",
       "  <thead>\n",
       "    <tr style=\"text-align: right;\">\n",
       "      <th></th>\n",
       "      <th>x1</th>\n",
       "      <th>x2</th>\n",
       "      <th>x3</th>\n",
       "    </tr>\n",
       "  </thead>\n",
       "  <tbody>\n",
       "    <tr>\n",
       "      <th>0</th>\n",
       "      <td>54396</td>\n",
       "      <td>bcse</td>\n",
       "      <td>2029-09-16</td>\n",
       "    </tr>\n",
       "    <tr>\n",
       "      <th>1</th>\n",
       "      <td>54396</td>\n",
       "      <td>bcse</td>\n",
       "      <td>2029-09-16</td>\n",
       "    </tr>\n",
       "    <tr>\n",
       "      <th>2</th>\n",
       "      <td>54396</td>\n",
       "      <td>bcse</td>\n",
       "      <td>2029-09-16</td>\n",
       "    </tr>\n",
       "    <tr>\n",
       "      <th>3</th>\n",
       "      <td>54396</td>\n",
       "      <td>bcse</td>\n",
       "      <td>2029-09-16</td>\n",
       "    </tr>\n",
       "    <tr>\n",
       "      <th>4</th>\n",
       "      <td>54396</td>\n",
       "      <td>bcse</td>\n",
       "      <td>2029-09-16</td>\n",
       "    </tr>\n",
       "    <tr>\n",
       "      <th>5</th>\n",
       "      <td>54396</td>\n",
       "      <td>bcse</td>\n",
       "      <td>2029-09-16</td>\n",
       "    </tr>\n",
       "    <tr>\n",
       "      <th>6</th>\n",
       "      <td>54396</td>\n",
       "      <td>bcse</td>\n",
       "      <td>2029-09-16</td>\n",
       "    </tr>\n",
       "    <tr>\n",
       "      <th>7</th>\n",
       "      <td>54396</td>\n",
       "      <td>bcse</td>\n",
       "      <td>2029-09-16</td>\n",
       "    </tr>\n",
       "    <tr>\n",
       "      <th>8</th>\n",
       "      <td>54396</td>\n",
       "      <td>bcse</td>\n",
       "      <td>2029-09-16</td>\n",
       "    </tr>\n",
       "    <tr>\n",
       "      <th>9</th>\n",
       "      <td>54396</td>\n",
       "      <td>bcse</td>\n",
       "      <td>2029-09-16</td>\n",
       "    </tr>\n",
       "    <tr>\n",
       "      <th>10</th>\n",
       "      <td>54396</td>\n",
       "      <td>bcse</td>\n",
       "      <td>2029-09-16</td>\n",
       "    </tr>\n",
       "    <tr>\n",
       "      <th>11</th>\n",
       "      <td>54396</td>\n",
       "      <td>bcse</td>\n",
       "      <td>2029-09-16</td>\n",
       "    </tr>\n",
       "    <tr>\n",
       "      <th>12</th>\n",
       "      <td>54396</td>\n",
       "      <td>bcse</td>\n",
       "      <td>2029-09-16</td>\n",
       "    </tr>\n",
       "    <tr>\n",
       "      <th>13</th>\n",
       "      <td>54396</td>\n",
       "      <td>bcse</td>\n",
       "      <td>2029-09-16</td>\n",
       "    </tr>\n",
       "    <tr>\n",
       "      <th>14</th>\n",
       "      <td>54396</td>\n",
       "      <td>bcse</td>\n",
       "      <td>2029-09-16</td>\n",
       "    </tr>\n",
       "    <tr>\n",
       "      <th>15</th>\n",
       "      <td>54396</td>\n",
       "      <td>bcse</td>\n",
       "      <td>2029-09-16</td>\n",
       "    </tr>\n",
       "    <tr>\n",
       "      <th>16</th>\n",
       "      <td>54396</td>\n",
       "      <td>bcse</td>\n",
       "      <td>2029-09-16</td>\n",
       "    </tr>\n",
       "    <tr>\n",
       "      <th>17</th>\n",
       "      <td>54396</td>\n",
       "      <td>bcse</td>\n",
       "      <td>2029-09-16</td>\n",
       "    </tr>\n",
       "    <tr>\n",
       "      <th>18</th>\n",
       "      <td>54396</td>\n",
       "      <td>bcse</td>\n",
       "      <td>2029-09-16</td>\n",
       "    </tr>\n",
       "    <tr>\n",
       "      <th>19</th>\n",
       "      <td>54396</td>\n",
       "      <td>bcse</td>\n",
       "      <td>2029-09-16</td>\n",
       "    </tr>\n",
       "  </tbody>\n",
       "</table>\n",
       "</div>"
      ],
      "text/plain": [
       "       x1    x2          x3\n",
       "0   54396  bcse  2029-09-16\n",
       "1   54396  bcse  2029-09-16\n",
       "2   54396  bcse  2029-09-16\n",
       "3   54396  bcse  2029-09-16\n",
       "4   54396  bcse  2029-09-16\n",
       "5   54396  bcse  2029-09-16\n",
       "6   54396  bcse  2029-09-16\n",
       "7   54396  bcse  2029-09-16\n",
       "8   54396  bcse  2029-09-16\n",
       "9   54396  bcse  2029-09-16\n",
       "10  54396  bcse  2029-09-16\n",
       "11  54396  bcse  2029-09-16\n",
       "12  54396  bcse  2029-09-16\n",
       "13  54396  bcse  2029-09-16\n",
       "14  54396  bcse  2029-09-16\n",
       "15  54396  bcse  2029-09-16\n",
       "16  54396  bcse  2029-09-16\n",
       "17  54396  bcse  2029-09-16\n",
       "18  54396  bcse  2029-09-16\n",
       "19  54396  bcse  2029-09-16"
      ]
     },
     "execution_count": 74,
     "metadata": {},
     "output_type": "execute_result"
    }
   ],
   "source": [
    "pd.read_sql(\"select * from test1\",mydb)"
   ]
  },
  {
   "cell_type": "code",
   "execution_count": 75,
   "id": "b8fd57f2",
   "metadata": {},
   "outputs": [
    {
     "data": {
      "text/html": [
       "<div>\n",
       "<style scoped>\n",
       "    .dataframe tbody tr th:only-of-type {\n",
       "        vertical-align: middle;\n",
       "    }\n",
       "\n",
       "    .dataframe tbody tr th {\n",
       "        vertical-align: top;\n",
       "    }\n",
       "\n",
       "    .dataframe thead th {\n",
       "        text-align: right;\n",
       "    }\n",
       "</style>\n",
       "<table border=\"1\" class=\"dataframe\">\n",
       "  <thead>\n",
       "    <tr style=\"text-align: right;\">\n",
       "      <th></th>\n",
       "      <th>x1</th>\n",
       "      <th>x1</th>\n",
       "    </tr>\n",
       "  </thead>\n",
       "  <tbody>\n",
       "    <tr>\n",
       "      <th>0</th>\n",
       "      <td>54396</td>\n",
       "      <td>54396</td>\n",
       "    </tr>\n",
       "    <tr>\n",
       "      <th>1</th>\n",
       "      <td>54396</td>\n",
       "      <td>54396</td>\n",
       "    </tr>\n",
       "    <tr>\n",
       "      <th>2</th>\n",
       "      <td>54396</td>\n",
       "      <td>54396</td>\n",
       "    </tr>\n",
       "    <tr>\n",
       "      <th>3</th>\n",
       "      <td>54396</td>\n",
       "      <td>54396</td>\n",
       "    </tr>\n",
       "    <tr>\n",
       "      <th>4</th>\n",
       "      <td>54396</td>\n",
       "      <td>54396</td>\n",
       "    </tr>\n",
       "    <tr>\n",
       "      <th>5</th>\n",
       "      <td>54396</td>\n",
       "      <td>54396</td>\n",
       "    </tr>\n",
       "    <tr>\n",
       "      <th>6</th>\n",
       "      <td>54396</td>\n",
       "      <td>54396</td>\n",
       "    </tr>\n",
       "    <tr>\n",
       "      <th>7</th>\n",
       "      <td>54396</td>\n",
       "      <td>54396</td>\n",
       "    </tr>\n",
       "    <tr>\n",
       "      <th>8</th>\n",
       "      <td>54396</td>\n",
       "      <td>54396</td>\n",
       "    </tr>\n",
       "    <tr>\n",
       "      <th>9</th>\n",
       "      <td>54396</td>\n",
       "      <td>54396</td>\n",
       "    </tr>\n",
       "    <tr>\n",
       "      <th>10</th>\n",
       "      <td>54396</td>\n",
       "      <td>54396</td>\n",
       "    </tr>\n",
       "    <tr>\n",
       "      <th>11</th>\n",
       "      <td>54396</td>\n",
       "      <td>54396</td>\n",
       "    </tr>\n",
       "    <tr>\n",
       "      <th>12</th>\n",
       "      <td>54396</td>\n",
       "      <td>54396</td>\n",
       "    </tr>\n",
       "    <tr>\n",
       "      <th>13</th>\n",
       "      <td>54396</td>\n",
       "      <td>54396</td>\n",
       "    </tr>\n",
       "    <tr>\n",
       "      <th>14</th>\n",
       "      <td>54396</td>\n",
       "      <td>54396</td>\n",
       "    </tr>\n",
       "    <tr>\n",
       "      <th>15</th>\n",
       "      <td>54396</td>\n",
       "      <td>54396</td>\n",
       "    </tr>\n",
       "    <tr>\n",
       "      <th>16</th>\n",
       "      <td>54396</td>\n",
       "      <td>54396</td>\n",
       "    </tr>\n",
       "    <tr>\n",
       "      <th>17</th>\n",
       "      <td>54396</td>\n",
       "      <td>54396</td>\n",
       "    </tr>\n",
       "    <tr>\n",
       "      <th>18</th>\n",
       "      <td>54396</td>\n",
       "      <td>54396</td>\n",
       "    </tr>\n",
       "    <tr>\n",
       "      <th>19</th>\n",
       "      <td>54396</td>\n",
       "      <td>54396</td>\n",
       "    </tr>\n",
       "  </tbody>\n",
       "</table>\n",
       "</div>"
      ],
      "text/plain": [
       "       x1     x1\n",
       "0   54396  54396\n",
       "1   54396  54396\n",
       "2   54396  54396\n",
       "3   54396  54396\n",
       "4   54396  54396\n",
       "5   54396  54396\n",
       "6   54396  54396\n",
       "7   54396  54396\n",
       "8   54396  54396\n",
       "9   54396  54396\n",
       "10  54396  54396\n",
       "11  54396  54396\n",
       "12  54396  54396\n",
       "13  54396  54396\n",
       "14  54396  54396\n",
       "15  54396  54396\n",
       "16  54396  54396\n",
       "17  54396  54396\n",
       "18  54396  54396\n",
       "19  54396  54396"
      ]
     },
     "execution_count": 75,
     "metadata": {},
     "output_type": "execute_result"
    }
   ],
   "source": [
    "pd.read_sql(\"select x1,x1 from syedxyzzz.test1\",mydb)"
   ]
  },
  {
   "cell_type": "code",
   "execution_count": 76,
   "id": "5ad8fa82",
   "metadata": {},
   "outputs": [
    {
     "data": {
      "text/html": [
       "<div>\n",
       "<style scoped>\n",
       "    .dataframe tbody tr th:only-of-type {\n",
       "        vertical-align: middle;\n",
       "    }\n",
       "\n",
       "    .dataframe tbody tr th {\n",
       "        vertical-align: top;\n",
       "    }\n",
       "\n",
       "    .dataframe thead th {\n",
       "        text-align: right;\n",
       "    }\n",
       "</style>\n",
       "<table border=\"1\" class=\"dataframe\">\n",
       "  <thead>\n",
       "    <tr style=\"text-align: right;\">\n",
       "      <th></th>\n",
       "      <th>x1</th>\n",
       "      <th>x1</th>\n",
       "      <th>x3</th>\n",
       "    </tr>\n",
       "  </thead>\n",
       "  <tbody>\n",
       "    <tr>\n",
       "      <th>0</th>\n",
       "      <td>54396</td>\n",
       "      <td>54396</td>\n",
       "      <td>2029-09-16</td>\n",
       "    </tr>\n",
       "    <tr>\n",
       "      <th>1</th>\n",
       "      <td>54396</td>\n",
       "      <td>54396</td>\n",
       "      <td>2029-09-16</td>\n",
       "    </tr>\n",
       "    <tr>\n",
       "      <th>2</th>\n",
       "      <td>54396</td>\n",
       "      <td>54396</td>\n",
       "      <td>2029-09-16</td>\n",
       "    </tr>\n",
       "    <tr>\n",
       "      <th>3</th>\n",
       "      <td>54396</td>\n",
       "      <td>54396</td>\n",
       "      <td>2029-09-16</td>\n",
       "    </tr>\n",
       "    <tr>\n",
       "      <th>4</th>\n",
       "      <td>54396</td>\n",
       "      <td>54396</td>\n",
       "      <td>2029-09-16</td>\n",
       "    </tr>\n",
       "    <tr>\n",
       "      <th>5</th>\n",
       "      <td>54396</td>\n",
       "      <td>54396</td>\n",
       "      <td>2029-09-16</td>\n",
       "    </tr>\n",
       "    <tr>\n",
       "      <th>6</th>\n",
       "      <td>54396</td>\n",
       "      <td>54396</td>\n",
       "      <td>2029-09-16</td>\n",
       "    </tr>\n",
       "    <tr>\n",
       "      <th>7</th>\n",
       "      <td>54396</td>\n",
       "      <td>54396</td>\n",
       "      <td>2029-09-16</td>\n",
       "    </tr>\n",
       "    <tr>\n",
       "      <th>8</th>\n",
       "      <td>54396</td>\n",
       "      <td>54396</td>\n",
       "      <td>2029-09-16</td>\n",
       "    </tr>\n",
       "    <tr>\n",
       "      <th>9</th>\n",
       "      <td>54396</td>\n",
       "      <td>54396</td>\n",
       "      <td>2029-09-16</td>\n",
       "    </tr>\n",
       "    <tr>\n",
       "      <th>10</th>\n",
       "      <td>54396</td>\n",
       "      <td>54396</td>\n",
       "      <td>2029-09-16</td>\n",
       "    </tr>\n",
       "    <tr>\n",
       "      <th>11</th>\n",
       "      <td>54396</td>\n",
       "      <td>54396</td>\n",
       "      <td>2029-09-16</td>\n",
       "    </tr>\n",
       "    <tr>\n",
       "      <th>12</th>\n",
       "      <td>54396</td>\n",
       "      <td>54396</td>\n",
       "      <td>2029-09-16</td>\n",
       "    </tr>\n",
       "    <tr>\n",
       "      <th>13</th>\n",
       "      <td>54396</td>\n",
       "      <td>54396</td>\n",
       "      <td>2029-09-16</td>\n",
       "    </tr>\n",
       "    <tr>\n",
       "      <th>14</th>\n",
       "      <td>54396</td>\n",
       "      <td>54396</td>\n",
       "      <td>2029-09-16</td>\n",
       "    </tr>\n",
       "    <tr>\n",
       "      <th>15</th>\n",
       "      <td>54396</td>\n",
       "      <td>54396</td>\n",
       "      <td>2029-09-16</td>\n",
       "    </tr>\n",
       "    <tr>\n",
       "      <th>16</th>\n",
       "      <td>54396</td>\n",
       "      <td>54396</td>\n",
       "      <td>2029-09-16</td>\n",
       "    </tr>\n",
       "    <tr>\n",
       "      <th>17</th>\n",
       "      <td>54396</td>\n",
       "      <td>54396</td>\n",
       "      <td>2029-09-16</td>\n",
       "    </tr>\n",
       "    <tr>\n",
       "      <th>18</th>\n",
       "      <td>54396</td>\n",
       "      <td>54396</td>\n",
       "      <td>2029-09-16</td>\n",
       "    </tr>\n",
       "    <tr>\n",
       "      <th>19</th>\n",
       "      <td>54396</td>\n",
       "      <td>54396</td>\n",
       "      <td>2029-09-16</td>\n",
       "    </tr>\n",
       "  </tbody>\n",
       "</table>\n",
       "</div>"
      ],
      "text/plain": [
       "       x1     x1          x3\n",
       "0   54396  54396  2029-09-16\n",
       "1   54396  54396  2029-09-16\n",
       "2   54396  54396  2029-09-16\n",
       "3   54396  54396  2029-09-16\n",
       "4   54396  54396  2029-09-16\n",
       "5   54396  54396  2029-09-16\n",
       "6   54396  54396  2029-09-16\n",
       "7   54396  54396  2029-09-16\n",
       "8   54396  54396  2029-09-16\n",
       "9   54396  54396  2029-09-16\n",
       "10  54396  54396  2029-09-16\n",
       "11  54396  54396  2029-09-16\n",
       "12  54396  54396  2029-09-16\n",
       "13  54396  54396  2029-09-16\n",
       "14  54396  54396  2029-09-16\n",
       "15  54396  54396  2029-09-16\n",
       "16  54396  54396  2029-09-16\n",
       "17  54396  54396  2029-09-16\n",
       "18  54396  54396  2029-09-16\n",
       "19  54396  54396  2029-09-16"
      ]
     },
     "execution_count": 76,
     "metadata": {},
     "output_type": "execute_result"
    }
   ],
   "source": [
    "pd.read_sql(\"select x1,x1,x3 from syedxyzzz.test1\",mydb)"
   ]
  },
  {
   "cell_type": "code",
   "execution_count": 82,
   "id": "f19d5790",
   "metadata": {},
   "outputs": [],
   "source": [
    "a = pd.read_sql(\"select x3,x1,x2 from syedxyzzz.test1\",mydb)"
   ]
  },
  {
   "cell_type": "code",
   "execution_count": 83,
   "id": "81cbdc24",
   "metadata": {},
   "outputs": [
    {
     "data": {
      "text/html": [
       "<div>\n",
       "<style scoped>\n",
       "    .dataframe tbody tr th:only-of-type {\n",
       "        vertical-align: middle;\n",
       "    }\n",
       "\n",
       "    .dataframe tbody tr th {\n",
       "        vertical-align: top;\n",
       "    }\n",
       "\n",
       "    .dataframe thead th {\n",
       "        text-align: right;\n",
       "    }\n",
       "</style>\n",
       "<table border=\"1\" class=\"dataframe\">\n",
       "  <thead>\n",
       "    <tr style=\"text-align: right;\">\n",
       "      <th></th>\n",
       "      <th>x3</th>\n",
       "      <th>x1</th>\n",
       "      <th>x2</th>\n",
       "    </tr>\n",
       "  </thead>\n",
       "  <tbody>\n",
       "    <tr>\n",
       "      <th>0</th>\n",
       "      <td>2029-09-16</td>\n",
       "      <td>54396</td>\n",
       "      <td>bcse</td>\n",
       "    </tr>\n",
       "    <tr>\n",
       "      <th>1</th>\n",
       "      <td>2029-09-16</td>\n",
       "      <td>54396</td>\n",
       "      <td>bcse</td>\n",
       "    </tr>\n",
       "    <tr>\n",
       "      <th>2</th>\n",
       "      <td>2029-09-16</td>\n",
       "      <td>54396</td>\n",
       "      <td>bcse</td>\n",
       "    </tr>\n",
       "    <tr>\n",
       "      <th>3</th>\n",
       "      <td>2029-09-16</td>\n",
       "      <td>54396</td>\n",
       "      <td>bcse</td>\n",
       "    </tr>\n",
       "    <tr>\n",
       "      <th>4</th>\n",
       "      <td>2029-09-16</td>\n",
       "      <td>54396</td>\n",
       "      <td>bcse</td>\n",
       "    </tr>\n",
       "    <tr>\n",
       "      <th>5</th>\n",
       "      <td>2029-09-16</td>\n",
       "      <td>54396</td>\n",
       "      <td>bcse</td>\n",
       "    </tr>\n",
       "    <tr>\n",
       "      <th>6</th>\n",
       "      <td>2029-09-16</td>\n",
       "      <td>54396</td>\n",
       "      <td>bcse</td>\n",
       "    </tr>\n",
       "    <tr>\n",
       "      <th>7</th>\n",
       "      <td>2029-09-16</td>\n",
       "      <td>54396</td>\n",
       "      <td>bcse</td>\n",
       "    </tr>\n",
       "    <tr>\n",
       "      <th>8</th>\n",
       "      <td>2029-09-16</td>\n",
       "      <td>54396</td>\n",
       "      <td>bcse</td>\n",
       "    </tr>\n",
       "    <tr>\n",
       "      <th>9</th>\n",
       "      <td>2029-09-16</td>\n",
       "      <td>54396</td>\n",
       "      <td>bcse</td>\n",
       "    </tr>\n",
       "    <tr>\n",
       "      <th>10</th>\n",
       "      <td>2029-09-16</td>\n",
       "      <td>54396</td>\n",
       "      <td>bcse</td>\n",
       "    </tr>\n",
       "    <tr>\n",
       "      <th>11</th>\n",
       "      <td>2029-09-16</td>\n",
       "      <td>54396</td>\n",
       "      <td>bcse</td>\n",
       "    </tr>\n",
       "    <tr>\n",
       "      <th>12</th>\n",
       "      <td>2029-09-16</td>\n",
       "      <td>54396</td>\n",
       "      <td>bcse</td>\n",
       "    </tr>\n",
       "    <tr>\n",
       "      <th>13</th>\n",
       "      <td>2029-09-16</td>\n",
       "      <td>54396</td>\n",
       "      <td>bcse</td>\n",
       "    </tr>\n",
       "    <tr>\n",
       "      <th>14</th>\n",
       "      <td>2029-09-16</td>\n",
       "      <td>54396</td>\n",
       "      <td>bcse</td>\n",
       "    </tr>\n",
       "    <tr>\n",
       "      <th>15</th>\n",
       "      <td>2029-09-16</td>\n",
       "      <td>54396</td>\n",
       "      <td>bcse</td>\n",
       "    </tr>\n",
       "    <tr>\n",
       "      <th>16</th>\n",
       "      <td>2029-09-16</td>\n",
       "      <td>54396</td>\n",
       "      <td>bcse</td>\n",
       "    </tr>\n",
       "    <tr>\n",
       "      <th>17</th>\n",
       "      <td>2029-09-16</td>\n",
       "      <td>54396</td>\n",
       "      <td>bcse</td>\n",
       "    </tr>\n",
       "    <tr>\n",
       "      <th>18</th>\n",
       "      <td>2029-09-16</td>\n",
       "      <td>54396</td>\n",
       "      <td>bcse</td>\n",
       "    </tr>\n",
       "    <tr>\n",
       "      <th>19</th>\n",
       "      <td>2029-09-16</td>\n",
       "      <td>54396</td>\n",
       "      <td>bcse</td>\n",
       "    </tr>\n",
       "  </tbody>\n",
       "</table>\n",
       "</div>"
      ],
      "text/plain": [
       "            x3     x1    x2\n",
       "0   2029-09-16  54396  bcse\n",
       "1   2029-09-16  54396  bcse\n",
       "2   2029-09-16  54396  bcse\n",
       "3   2029-09-16  54396  bcse\n",
       "4   2029-09-16  54396  bcse\n",
       "5   2029-09-16  54396  bcse\n",
       "6   2029-09-16  54396  bcse\n",
       "7   2029-09-16  54396  bcse\n",
       "8   2029-09-16  54396  bcse\n",
       "9   2029-09-16  54396  bcse\n",
       "10  2029-09-16  54396  bcse\n",
       "11  2029-09-16  54396  bcse\n",
       "12  2029-09-16  54396  bcse\n",
       "13  2029-09-16  54396  bcse\n",
       "14  2029-09-16  54396  bcse\n",
       "15  2029-09-16  54396  bcse\n",
       "16  2029-09-16  54396  bcse\n",
       "17  2029-09-16  54396  bcse\n",
       "18  2029-09-16  54396  bcse\n",
       "19  2029-09-16  54396  bcse"
      ]
     },
     "execution_count": 83,
     "metadata": {},
     "output_type": "execute_result"
    }
   ],
   "source": [
    "a"
   ]
  },
  {
   "cell_type": "code",
   "execution_count": 84,
   "id": "4376a106",
   "metadata": {},
   "outputs": [],
   "source": [
    "a.to_csv(\"mydata.csv\")"
   ]
  },
  {
   "cell_type": "code",
   "execution_count": 85,
   "id": "ae7d1a75",
   "metadata": {},
   "outputs": [],
   "source": [
    "mydb = connection.connect(host = 'localhost', database = 'syedxyzzz', user = 'root', passwd = '0913', use_pure = True)"
   ]
  },
  {
   "cell_type": "code",
   "execution_count": 86,
   "id": "20751f50",
   "metadata": {},
   "outputs": [
    {
     "data": {
      "text/plain": [
       "<mysql.connector.connection.MySQLConnection at 0x215b6af1280>"
      ]
     },
     "execution_count": 86,
     "metadata": {},
     "output_type": "execute_result"
    }
   ],
   "source": [
    "mydb"
   ]
  },
  {
   "cell_type": "code",
   "execution_count": 87,
   "id": "d67ff03d",
   "metadata": {},
   "outputs": [],
   "source": [
    "cur = mydb.cursor()"
   ]
  },
  {
   "cell_type": "code",
   "execution_count": 88,
   "id": "146daf1b",
   "metadata": {},
   "outputs": [],
   "source": [
    "cur.execute(\"create table mydata(n1 int(20) , n2 varchar(20) , n3 date)\")"
   ]
  },
  {
   "cell_type": "code",
   "execution_count": 89,
   "id": "aa3c6eae",
   "metadata": {},
   "outputs": [],
   "source": [
    "data = pd.read_csv('mydata.csv')"
   ]
  },
  {
   "cell_type": "code",
   "execution_count": 90,
   "id": "9ea8badc",
   "metadata": {},
   "outputs": [
    {
     "data": {
      "text/html": [
       "<div>\n",
       "<style scoped>\n",
       "    .dataframe tbody tr th:only-of-type {\n",
       "        vertical-align: middle;\n",
       "    }\n",
       "\n",
       "    .dataframe tbody tr th {\n",
       "        vertical-align: top;\n",
       "    }\n",
       "\n",
       "    .dataframe thead th {\n",
       "        text-align: right;\n",
       "    }\n",
       "</style>\n",
       "<table border=\"1\" class=\"dataframe\">\n",
       "  <thead>\n",
       "    <tr style=\"text-align: right;\">\n",
       "      <th></th>\n",
       "      <th>Unnamed: 0</th>\n",
       "      <th>x3</th>\n",
       "      <th>x1</th>\n",
       "      <th>x2</th>\n",
       "    </tr>\n",
       "  </thead>\n",
       "  <tbody>\n",
       "    <tr>\n",
       "      <th>0</th>\n",
       "      <td>0</td>\n",
       "      <td>2029-09-16</td>\n",
       "      <td>54396</td>\n",
       "      <td>bcse</td>\n",
       "    </tr>\n",
       "    <tr>\n",
       "      <th>1</th>\n",
       "      <td>1</td>\n",
       "      <td>2029-09-16</td>\n",
       "      <td>54396</td>\n",
       "      <td>bcse</td>\n",
       "    </tr>\n",
       "    <tr>\n",
       "      <th>2</th>\n",
       "      <td>2</td>\n",
       "      <td>2029-09-16</td>\n",
       "      <td>54396</td>\n",
       "      <td>bcse</td>\n",
       "    </tr>\n",
       "    <tr>\n",
       "      <th>3</th>\n",
       "      <td>3</td>\n",
       "      <td>2029-09-16</td>\n",
       "      <td>54396</td>\n",
       "      <td>bcse</td>\n",
       "    </tr>\n",
       "    <tr>\n",
       "      <th>4</th>\n",
       "      <td>4</td>\n",
       "      <td>2029-09-16</td>\n",
       "      <td>54396</td>\n",
       "      <td>bcse</td>\n",
       "    </tr>\n",
       "    <tr>\n",
       "      <th>5</th>\n",
       "      <td>5</td>\n",
       "      <td>2029-09-16</td>\n",
       "      <td>54396</td>\n",
       "      <td>bcse</td>\n",
       "    </tr>\n",
       "    <tr>\n",
       "      <th>6</th>\n",
       "      <td>6</td>\n",
       "      <td>2029-09-16</td>\n",
       "      <td>54396</td>\n",
       "      <td>bcse</td>\n",
       "    </tr>\n",
       "    <tr>\n",
       "      <th>7</th>\n",
       "      <td>7</td>\n",
       "      <td>2029-09-16</td>\n",
       "      <td>54396</td>\n",
       "      <td>bcse</td>\n",
       "    </tr>\n",
       "    <tr>\n",
       "      <th>8</th>\n",
       "      <td>8</td>\n",
       "      <td>2029-09-16</td>\n",
       "      <td>54396</td>\n",
       "      <td>bcse</td>\n",
       "    </tr>\n",
       "    <tr>\n",
       "      <th>9</th>\n",
       "      <td>9</td>\n",
       "      <td>2029-09-16</td>\n",
       "      <td>54396</td>\n",
       "      <td>bcse</td>\n",
       "    </tr>\n",
       "    <tr>\n",
       "      <th>10</th>\n",
       "      <td>10</td>\n",
       "      <td>2029-09-16</td>\n",
       "      <td>54396</td>\n",
       "      <td>bcse</td>\n",
       "    </tr>\n",
       "    <tr>\n",
       "      <th>11</th>\n",
       "      <td>11</td>\n",
       "      <td>2029-09-16</td>\n",
       "      <td>54396</td>\n",
       "      <td>bcse</td>\n",
       "    </tr>\n",
       "    <tr>\n",
       "      <th>12</th>\n",
       "      <td>12</td>\n",
       "      <td>2029-09-16</td>\n",
       "      <td>54396</td>\n",
       "      <td>bcse</td>\n",
       "    </tr>\n",
       "    <tr>\n",
       "      <th>13</th>\n",
       "      <td>13</td>\n",
       "      <td>2029-09-16</td>\n",
       "      <td>54396</td>\n",
       "      <td>bcse</td>\n",
       "    </tr>\n",
       "    <tr>\n",
       "      <th>14</th>\n",
       "      <td>14</td>\n",
       "      <td>2029-09-16</td>\n",
       "      <td>54396</td>\n",
       "      <td>bcse</td>\n",
       "    </tr>\n",
       "    <tr>\n",
       "      <th>15</th>\n",
       "      <td>15</td>\n",
       "      <td>2029-09-16</td>\n",
       "      <td>54396</td>\n",
       "      <td>bcse</td>\n",
       "    </tr>\n",
       "    <tr>\n",
       "      <th>16</th>\n",
       "      <td>16</td>\n",
       "      <td>2029-09-16</td>\n",
       "      <td>54396</td>\n",
       "      <td>bcse</td>\n",
       "    </tr>\n",
       "    <tr>\n",
       "      <th>17</th>\n",
       "      <td>17</td>\n",
       "      <td>2029-09-16</td>\n",
       "      <td>54396</td>\n",
       "      <td>bcse</td>\n",
       "    </tr>\n",
       "    <tr>\n",
       "      <th>18</th>\n",
       "      <td>18</td>\n",
       "      <td>2029-09-16</td>\n",
       "      <td>54396</td>\n",
       "      <td>bcse</td>\n",
       "    </tr>\n",
       "    <tr>\n",
       "      <th>19</th>\n",
       "      <td>19</td>\n",
       "      <td>2029-09-16</td>\n",
       "      <td>54396</td>\n",
       "      <td>bcse</td>\n",
       "    </tr>\n",
       "  </tbody>\n",
       "</table>\n",
       "</div>"
      ],
      "text/plain": [
       "    Unnamed: 0          x3     x1    x2\n",
       "0            0  2029-09-16  54396  bcse\n",
       "1            1  2029-09-16  54396  bcse\n",
       "2            2  2029-09-16  54396  bcse\n",
       "3            3  2029-09-16  54396  bcse\n",
       "4            4  2029-09-16  54396  bcse\n",
       "5            5  2029-09-16  54396  bcse\n",
       "6            6  2029-09-16  54396  bcse\n",
       "7            7  2029-09-16  54396  bcse\n",
       "8            8  2029-09-16  54396  bcse\n",
       "9            9  2029-09-16  54396  bcse\n",
       "10          10  2029-09-16  54396  bcse\n",
       "11          11  2029-09-16  54396  bcse\n",
       "12          12  2029-09-16  54396  bcse\n",
       "13          13  2029-09-16  54396  bcse\n",
       "14          14  2029-09-16  54396  bcse\n",
       "15          15  2029-09-16  54396  bcse\n",
       "16          16  2029-09-16  54396  bcse\n",
       "17          17  2029-09-16  54396  bcse\n",
       "18          18  2029-09-16  54396  bcse\n",
       "19          19  2029-09-16  54396  bcse"
      ]
     },
     "execution_count": 90,
     "metadata": {},
     "output_type": "execute_result"
    }
   ],
   "source": [
    "data"
   ]
  },
  {
   "cell_type": "code",
   "execution_count": 91,
   "id": "0d481f17",
   "metadata": {},
   "outputs": [],
   "source": [
    "import mysql.connector as connection\n",
    "import pandas as pd\n",
    "import csv"
   ]
  },
  {
   "cell_type": "code",
   "execution_count": 92,
   "id": "19511918",
   "metadata": {},
   "outputs": [
    {
     "data": {
      "text/plain": [
       "<mysql.connector.connection.MySQLConnection at 0x215b6b08640>"
      ]
     },
     "execution_count": 92,
     "metadata": {},
     "output_type": "execute_result"
    }
   ],
   "source": [
    "mydb = connection.connect(host = \"localhost\", user=\"root\", passwd=\"0913\",use_pure=True) \n",
    "mydb"
   ]
  },
  {
   "cell_type": "code",
   "execution_count": 93,
   "id": "73570f21",
   "metadata": {},
   "outputs": [],
   "source": [
    "cur = mydb.cursor()"
   ]
  },
  {
   "cell_type": "code",
   "execution_count": 94,
   "id": "8bebca04",
   "metadata": {},
   "outputs": [],
   "source": [
    "cur.execute(\"create database newxyzzz\")"
   ]
  },
  {
   "cell_type": "code",
   "execution_count": 96,
   "id": "7ddec9ca",
   "metadata": {},
   "outputs": [],
   "source": [
    "mydb = connection.connect(host = \"localhost\", database = \"newxyzzz\", user=\"root\", passwd=\"0913\",use_pure=True) \n",
    "mydb\n",
    "cur = mydb.cursor()\n",
    "cur.execute(\"create table test12(x1 INT (7),x2 VARCHAR (10), x3 DATE)\")\n",
    "mydb.close()"
   ]
  },
  {
   "cell_type": "code",
   "execution_count": 97,
   "id": "20e4e8c6",
   "metadata": {},
   "outputs": [
    {
     "data": {
      "text/plain": [
       "<mysql.connector.connection.MySQLConnection at 0x215b70e22b0>"
      ]
     },
     "execution_count": 97,
     "metadata": {},
     "output_type": "execute_result"
    }
   ],
   "source": [
    "mydb = connection.connect(host = \"localhost\", database = \"newxyzzz\", user=\"root\", passwd=\"0913\",use_pure=True) \n",
    "mydb"
   ]
  },
  {
   "cell_type": "code",
   "execution_count": 98,
   "id": "55737b05",
   "metadata": {},
   "outputs": [],
   "source": [
    "cur = mydb.cursor()\n",
    "cur.execute(\"insert into test12 values(54396,'bcse','2029-09-16')\")\n",
    "mydb.commit()"
   ]
  },
  {
   "cell_type": "code",
   "execution_count": 100,
   "id": "36aac873",
   "metadata": {},
   "outputs": [],
   "source": [
    "cur.execute(\"insert into test12 values(54395,'bcse','2029-09-10')\")\n",
    "cur.execute(\"insert into test12 values(54393,'bcse','2029-09-12')\")\n",
    "cur.execute(\"insert into test12 values(54391,'bcse','2029-09-15')\")\n",
    "cur.execute(\"insert into test12 values(54386,'bcse','2029-09-18')\")\n",
    "cur.execute(\"insert into test12 values(54324,'bcse','2029-09-13')\")\n",
    "cur.execute(\"insert into test12 values(54332,'bcse','2029-09-12')\")\n",
    "cur.execute(\"insert into test12 values(54346,'bcse','2029-09-19')\")\n",
    "cur.execute(\"insert into test12 values(54315,'bcse','2029-09-14')\")\n",
    "cur.execute(\"insert into test12 values(54382,'bcse','2029-09-15')\")\n",
    "cur.execute(\"insert into test12 values(54337,'bcse','2029-09-11')\")\n",
    "cur.execute(\"insert into test12 values(54391,'bcse','2029-09-16')\")"
   ]
  },
  {
   "cell_type": "code",
   "execution_count": 101,
   "id": "e3681365",
   "metadata": {},
   "outputs": [],
   "source": [
    "mydb.commit()"
   ]
  },
  {
   "cell_type": "code",
   "execution_count": 102,
   "id": "8029d717",
   "metadata": {},
   "outputs": [
    {
     "data": {
      "text/plain": [
       "<mysql.connector.connection.MySQLConnection at 0x215b6ad2460>"
      ]
     },
     "execution_count": 102,
     "metadata": {},
     "output_type": "execute_result"
    }
   ],
   "source": [
    "mydb = connection.connect(host = \"localhost\", database = \"newxyzzz\", user=\"root\", passwd=\"0913\",use_pure=True) \n",
    "mydb"
   ]
  },
  {
   "cell_type": "code",
   "execution_count": 103,
   "id": "3793295b",
   "metadata": {},
   "outputs": [],
   "source": [
    "cur = mydb.cursor()"
   ]
  },
  {
   "cell_type": "code",
   "execution_count": 104,
   "id": "d4e08f7e",
   "metadata": {},
   "outputs": [],
   "source": [
    "cur.execute(\"delete from test12 where x1 = 54324\")"
   ]
  },
  {
   "cell_type": "code",
   "execution_count": 105,
   "id": "2615f78f",
   "metadata": {},
   "outputs": [],
   "source": [
    "mydb.commit()"
   ]
  },
  {
   "cell_type": "code",
   "execution_count": 106,
   "id": "45543ff2",
   "metadata": {},
   "outputs": [],
   "source": [
    "cur = mydb.cursor()\n",
    "cur.execute(\"update test12 set x1 = 12563, x2 = 'yusuf' where x1 = 54391\")\n"
   ]
  },
  {
   "cell_type": "code",
   "execution_count": 107,
   "id": "67d1b057",
   "metadata": {},
   "outputs": [],
   "source": [
    "mydb.commit()"
   ]
  },
  {
   "cell_type": "code",
   "execution_count": 108,
   "id": "6787e5f1",
   "metadata": {},
   "outputs": [],
   "source": [
    "mydb.close()"
   ]
  },
  {
   "cell_type": "code",
   "execution_count": null,
   "id": "a801a33e",
   "metadata": {},
   "outputs": [],
   "source": []
  }
 ],
 "metadata": {
  "kernelspec": {
   "display_name": "Python 3 (ipykernel)",
   "language": "python",
   "name": "python3"
  },
  "language_info": {
   "codemirror_mode": {
    "name": "ipython",
    "version": 3
   },
   "file_extension": ".py",
   "mimetype": "text/x-python",
   "name": "python",
   "nbconvert_exporter": "python",
   "pygments_lexer": "ipython3",
   "version": "3.9.7"
  }
 },
 "nbformat": 4,
 "nbformat_minor": 5
}
